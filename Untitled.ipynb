{
 "cells": [
  {
   "cell_type": "code",
   "execution_count": 1,
   "metadata": {},
   "outputs": [],
   "source": [
    "import pandas as pd\n",
    "import matplotlib.pyplot as plt"
   ]
  },
  {
   "cell_type": "code",
   "execution_count": 2,
   "metadata": {},
   "outputs": [],
   "source": [
    "df_pos = pd.read_csv(\"positivos_covid.csv\", encoding = \"ISO-8859-1\")\n",
    "#df_dead = pd.read_csv(\"fallecidos_covid.csv\", encoding = \"ISO-8859-1\")\n",
    "\n",
    "df_pos['FECHA_RESULTADO'] = pd.to_datetime(df_pos['FECHA_RESULTADO'], format=\"%d/%m/%Y\")\n",
    "\n",
    "df_pos.DISTRITO = df_pos.DISTRITO.str.replace('Ñ', 'N')\n",
    "df_pos.PROVINCIA = df_pos.PROVINCIA.str.replace('Ñ', 'N')\n",
    "\n",
    "df_pos.DISTRITO = df_pos.DISTRITO.str.replace('.', '')\n",
    "df_pos.PROVINCIA = df_pos.PROVINCIA.str.replace('.', '')\n",
    "\n",
    "df_pos.DISTRITO = df_pos.DISTRITO.str.replace('Ó', 'O')\n",
    "df_pos.PROVINCIA = df_pos.PROVINCIA.str.replace('Ó', 'O')\n",
    "\n"
   ]
  },
  {
   "cell_type": "code",
   "execution_count": 5,
   "metadata": {},
   "outputs": [
    {
     "data": {
      "text/plain": [
       "Timestamp('2020-07-09 00:00:00')"
      ]
     },
     "execution_count": 5,
     "metadata": {},
     "output_type": "execute_result"
    }
   ],
   "source": [
    "df_pos.FECHA_RESULTADO.max()\n"
   ]
  },
  {
   "cell_type": "code",
   "execution_count": 6,
   "metadata": {},
   "outputs": [
    {
     "data": {
      "text/plain": [
       "(319646, 8)"
      ]
     },
     "execution_count": 6,
     "metadata": {},
     "output_type": "execute_result"
    }
   ],
   "source": [
    "df_pos.shape"
   ]
  },
  {
   "cell_type": "code",
   "execution_count": 27,
   "metadata": {},
   "outputs": [
    {
     "data": {
      "text/plain": [
       "FECHA_RESULTADO\n",
       "2020-03-15     1\n",
       "2020-03-16     1\n",
       "2020-03-17     3\n",
       "2020-03-18     4\n",
       "2020-03-19     8\n",
       "              ..\n",
       "2020-07-05    34\n",
       "2020-07-06    18\n",
       "2020-07-07    30\n",
       "2020-07-08    18\n",
       "2020-07-09    55\n",
       "Length: 117, dtype: int64"
      ]
     },
     "execution_count": 27,
     "metadata": {},
     "output_type": "execute_result"
    }
   ],
   "source": [
    "df_jm = df_pos[df_pos.DISTRITO == \"JESUS MARIA\"]\n",
    "\n",
    "df_n = df_jm.groupby([df_jm.FECHA_RESULTADO]).size()\n",
    "\n",
    "df_n"
   ]
  },
  {
   "cell_type": "code",
   "execution_count": 38,
   "metadata": {},
   "outputs": [
    {
     "data": {
      "text/plain": [
       "<BarContainer object of 117 artists>"
      ]
     },
     "execution_count": 38,
     "metadata": {},
     "output_type": "execute_result"
    },
    {
     "data": {
      "image/png": "[encoded data removed]",
      "text/plain": [
       "<Figure size 432x288 with 1 Axes>"
      ]
     },
     "metadata": {
      "needs_background": "light"
     },
     "output_type": "display_data"
    }
   ],
   "source": [
    "fig, ax = plt.subplots()\n",
    "df_avg = df_n.rolling(7).mean()\n",
    "df_avg.plot(ax=ax, color=\"green\", title=\"Casos Nuevos Detectados en \", legend=True)\n",
    "\n",
    "ax.bar(df_n.index, df_n.values)"
   ]
  },
  {
   "cell_type": "code",
   "execution_count": null,
   "metadata": {},
   "outputs": [],
   "source": []
  }
 ],
 "metadata": {
  "kernelspec": {
   "display_name": "Python 3",
   "language": "python",
   "name": "python3"
  },
  "language_info": {
   "codemirror_mode": {
    "name": "ipython",
    "version": 3
   },
   "file_extension": ".py",
   "mimetype": "text/x-python",
   "name": "python",
   "nbconvert_exporter": "python",
   "pygments_lexer": "ipython3",
   "version": "3.6.9"
  }
 },
 "nbformat": 4,
 "nbformat_minor": 2
}
