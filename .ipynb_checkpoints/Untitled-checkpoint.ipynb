{
 "cells": [
  {
   "cell_type": "code",
   "execution_count": 1,
   "metadata": {},
   "outputs": [],
   "source": [
    "import pandas as pd\n",
    "import matplotlib.pyplot as plt"
   ]
  },
  {
   "cell_type": "code",
   "execution_count": 2,
   "metadata": {},
   "outputs": [],
   "source": [
    "df_pos = pd.read_csv(\"positivos_covid.csv\", encoding = \"ISO-8859-1\")\n",
    "#df_dead = pd.read_csv(\"fallecidos_covid.csv\", encoding = \"ISO-8859-1\")\n",
    "\n",
    "df_pos['FECHA_RESULTADO'] = pd.to_datetime(df_pos['FECHA_RESULTADO'], format=\"%d/%m/%Y\")\n",
    "\n",
    "df_pos.DISTRITO = df_pos.DISTRITO.str.replace('Ñ', 'N')\n",
    "df_pos.PROVINCIA = df_pos.PROVINCIA.str.replace('Ñ', 'N')\n",
    "\n",
    "df_pos.DISTRITO = df_pos.DISTRITO.str.replace('.', '')\n",
    "df_pos.PROVINCIA = df_pos.PROVINCIA.str.replace('.', '')\n",
    "\n",
    "df_pos.DISTRITO = df_pos.DISTRITO.str.replace('Ó', 'O')\n",
    "df_pos.PROVINCIA = df_pos.PROVINCIA.str.replace('Ó', 'O')\n",
    "\n"
   ]
  },
  {
   "cell_type": "code",
   "execution_count": 5,
   "metadata": {},
   "outputs": [
    {
     "data": {
      "text/plain": [
       "Timestamp('2020-07-09 00:00:00')"
      ]
     },
     "execution_count": 5,
     "metadata": {},
     "output_type": "execute_result"
    }
   ],
   "source": [
    "df_pos.FECHA_RESULTADO.max()\n"
   ]
  },
  {
   "cell_type": "code",
   "execution_count": 6,
   "metadata": {},
   "outputs": [
    {
     "data": {
      "text/plain": [
       "(319646, 8)"
      ]
     },
     "execution_count": 6,
     "metadata": {},
     "output_type": "execute_result"
    }
   ],
   "source": [
    "df_pos.shape"
   ]
  },
  {
   "cell_type": "code",
   "execution_count": 10,
   "metadata": {},
   "outputs": [
    {
     "data": {
      "text/plain": [
       "LIMA                157881\n",
       "EN INVESTIGACION      4320\n",
       "CANETE                  17\n",
       "CANTA                    1\n",
       "Name: PROVINCIA, dtype: int64"
      ]
     },
     "execution_count": 10,
     "metadata": {},
     "output_type": "execute_result"
    }
   ],
   "source": [
    "df_pos[df_pos.DEPARTAMENTO == \"LIMA\"].PROVINCIA.value_counts()"
   ]
  },
  {
   "cell_type": "code",
   "execution_count": null,
   "metadata": {},
   "outputs": [],
   "source": []
  }
 ],
 "metadata": {
  "kernelspec": {
   "display_name": "Python 3",
   "language": "python",
   "name": "python3"
  },
  "language_info": {
   "codemirror_mode": {
    "name": "ipython",
    "version": 3
   },
   "file_extension": ".py",
   "mimetype": "text/x-python",
   "name": "python",
   "nbconvert_exporter": "python",
   "pygments_lexer": "ipython3",
   "version": "3.6.9"
  }
 },
 "nbformat": 4,
 "nbformat_minor": 2
}
